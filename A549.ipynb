{
 "cells": [
  {
   "cell_type": "code",
   "execution_count": 1,
   "id": "c4b4415d-7c4c-4542-b4a7-fa6aa3ec135f",
   "metadata": {},
   "outputs": [],
   "source": [
    "import pandas as pd\n",
    "import pyranges as pr\n",
    "from Bio import SeqIO"
   ]
  },
  {
   "cell_type": "code",
   "execution_count": null,
   "id": "0d852f66-4dc0-47d7-99da-697589a28ad0",
   "metadata": {},
   "outputs": [],
   "source": [
    "rep1 = pd.read_csv(\"GSE133379_A549-G4P-hg19-rep1.narrowPeak\", sep=\"\\t\", header=None)\n",
    "rep2 = pd.read_csv(\"GSE133379_A549-G4P-hg19-rep2.narrowPeak\", sep=\"\\t\", header=None)\n",
    "\n",
    "columns = [\"chrom\", \"start\", \"end\", \"name\", \"score\", \"strand\", \"signal\", \"pval\", \"qval\", \"summit_offset\"]\n",
    "rep1.columns = columns\n",
    "rep2.columns = columns\n",
    "\n",
    "peaks = pd.concat([rep1, rep2], ignore_index=True).drop_duplicates()\n",
    "\n",
    "peaks[\"summit\"] = peaks[\"start\"] + peaks[\"summit_offset\"]\n",
    "\n",
    "g4_seq = pd.read_csv(\"G4_seq_peaks.bed\", sep=\"\\t\", header=None)\n",
    "g4_seq.columns = [\"chrom\", \"start\", \"end\", \"name\", \"score\", \"strand\"]"
   ]
  },
  {
   "cell_type": "code",
   "execution_count": null,
   "id": "d95a53e6-1f3d-4d5b-a046-0e90fbfd6e64",
   "metadata": {},
   "outputs": [
    {
     "name": "stdout",
     "output_type": "stream",
     "text": [
      "Found 168630 active G4 regions in A549\n"
     ]
    }
   ],
   "source": [
    "chip_pr = pr.PyRanges(peaks.rename(columns={\"chrom\": \"Chromosome\", \"start\": \"Start\", \"end\": \"End\", \"summit\": \"Summit\"}))\n",
    "g4_pr = pr.PyRanges(g4_seq.rename(columns={\"chrom\": \"Chromosome\", \"start\": \"Start\", \"end\": \"End\"}))\n",
    "\n",
    "active_g4 = chip_pr.intersect(g4_pr).df\n",
    "\n",
    "active_g4 = active_g4.rename(columns={\n",
    "    \"Chromosome\": \"chrom\",\n",
    "    \"Start\": \"start\",\n",
    "    \"End\": \"end\",\n",
    "    \"Summit\": \"summit\"\n",
    "})\n",
    "\n",
    "if \"summit_y\" in active_g4.columns:\n",
    "    active_g4 = active_g4.drop(columns=[\"summit_y\"])\n",
    "\n",
    "print(f\"Found {len(active_g4)} active G4 regions in A549\")"
   ]
  },
  {
   "cell_type": "code",
   "execution_count": null,
   "id": "3d213b77-5761-4d1e-b6b2-351c9a18ecbc",
   "metadata": {},
   "outputs": [
    {
     "name": "stdout",
     "output_type": "stream",
     "text": [
      "✅ Labeled chromatin accessibility for 168630 A549 G4 regions\n"
     ]
    }
   ],
   "source": [
    "atac_a549 = pd.read_csv(\n",
    "    \"GSM4983058_ATAC-A549_L2_Q801602.nod_peaks.narrowPeak\", \n",
    "    sep=\"\\t\", header=None\n",
    ")\n",
    "\n",
    "atac_a549.columns = [\n",
    "    \"chrom\", \"start\", \"end\", \"name\", \"score\", \"strand\",\n",
    "    \"signal\", \"pval\", \"qval\", \"peak_offset\"\n",
    "]\n",
    "\n",
    "atac_a549 = atac_a549[[\"chrom\", \"start\", \"end\"]]\n",
    "\n",
    "active_g4[\"is_open\"] = 0 \n",
    "\n",
    "for idx, row in active_g4.iterrows():\n",
    "    overlap = atac_a549[\n",
    "        (atac_a549[\"chrom\"] == row[\"chrom\"]) &\n",
    "        (atac_a549[\"start\"] < row[\"end\"]) &\n",
    "        (atac_a549[\"end\"] > row[\"start\"])\n",
    "    ]\n",
    "    if not overlap.empty:\n",
    "        active_g4.at[idx, \"is_open\"] = 1\n",
    "\n",
    "print(f\"Labeled chromatin accessibility for {len(active_g4)} A549 G4 regions\")\n"
   ]
  },
  {
   "cell_type": "code",
   "execution_count": null,
   "id": "cf2e1588-290f-461c-8c47-973cf80bdb36",
   "metadata": {},
   "outputs": [
    {
     "name": "stdout",
     "output_type": "stream",
     "text": [
      "Successfully extracted 168630 sequences\n"
     ]
    }
   ],
   "source": [
    "from Bio import SeqIO\n",
    "import numpy as np\n",
    "\n",
    "genome = {rec.id: str(rec.seq) for rec in SeqIO.parse(\"hg19.fa\", \"fasta\")}\n",
    "\n",
    "def get_sequence(row):\n",
    "    \"\"\"Extract 201bp centered on summit with robust type handling\"\"\"\n",
    "    try:\n",
    "        chrom = str(row[\"chrom\"])\n",
    "        summit = int(float(row[\"summit\"])) \n",
    "        seq_start = max(0, summit - 100)   \n",
    "        seq_end = summit + 101\n",
    "        \n",
    "        chrom_seq = genome.get(chrom, genome.get(\"chr\"+chrom))\n",
    "        if not chrom_seq:\n",
    "            raise ValueError(f\"Chromosome {chrom} not found in genome\")\n",
    "            \n",
    "        seq_end = min(seq_end, len(chrom_seq))\n",
    "        return chrom_seq[seq_start:seq_end].upper()\n",
    "    except Exception as e:\n",
    "        print(f\"Error processing {row['chrom']}:{row['start']}-{row['end']}: {str(e)}\")\n",
    "        return None\n",
    "\n",
    "active_g4[\"sequence\"] = active_g4.apply(get_sequence, axis=1)\n",
    "\n",
    "active_g4 = active_g4.dropna(subset=[\"sequence\"])\n",
    "print(f\"Successfully extracted {len(active_g4)} sequences\")"
   ]
  },
  {
   "cell_type": "code",
   "execution_count": null,
   "id": "894595b1-4c9e-40af-afcf-54636dd8d6c3",
   "metadata": {},
   "outputs": [],
   "source": [
    "import random\n",
    "\n",
    "def generate_negative_samples(n, gc_mean, gc_std):\n",
    "    negatives = []\n",
    "    chromosomes = list(genome.keys())\n",
    "    \n",
    "    while len(negatives) < n:\n",
    "        chrom = random.choice(chromosomes)\n",
    "        max_start = len(genome[chrom]) - 201\n",
    "        if max_start <= 0: continue\n",
    "        \n",
    "        start = random.randint(0, max_start)\n",
    "        seq = str(genome[chrom][start:start+201]).upper()\n",
    "        gc = (seq.count(\"G\") + seq.count(\"C\")) / 201\n",
    "        \n",
    "        if abs(gc - gc_mean) < gc_std:\n",
    "            negatives.append({\n",
    "                \"chrom\": chrom,\n",
    "                \"start\": start,\n",
    "                \"end\": start + 201,\n",
    "                \"sequence\": seq,\n",
    "                \"is_open\": 0, \n",
    "                \"label\": 0    \n",
    "            })\n",
    "    \n",
    "    return pd.DataFrame(negatives)\n",
    "\n",
    "gc_content = active_g4[\"sequence\"].apply(lambda x: (x.count(\"G\") + x.count(\"C\")) / 201)\n",
    "negatives = generate_negative_samples(len(active_g4), gc_content.mean(), gc_content.std())\n",
    "\n",
    "negatives[\"is_open\"] = 0\n",
    "for idx, row in negatives.iterrows():\n",
    "    overlap = atac_a549[\n",
    "        (atac_a549[\"chrom\"] == row[\"chrom\"]) &\n",
    "        (atac_a549[\"start\"] < row[\"end\"]) &\n",
    "        (atac_a549[\"end\"] > row[\"start\"])\n",
    "    ]\n",
    "    if not overlap.empty:\n",
    "        negatives.at[idx, \"is_open\"] = 1\n",
    "\n",
    "positives = active_g4[[\"sequence\", \"is_open\"]].copy()\n",
    "negatives_df = negatives[[\"sequence\", \"is_open\"]].copy()\n",
    "\n",
    "positives.loc[:, \"label\"] = 1 \n",
    "negatives_df.loc[:, \"label\"] = 0\n",
    "\n",
    "training_data = pd.concat([positives, negatives_df], ignore_index=True)\n",
    "training_data = training_data.sample(frac=1, random_state=42).reset_index(drop=True)\n",
    "\n",
    "training_data.to_csv(\"A549_training_dataset.csv\", index=False)"
   ]
  }
 ],
 "metadata": {
  "kernelspec": {
   "display_name": "Python 3 (ipykernel)",
   "language": "python",
   "name": "python3"
  },
  "language_info": {
   "codemirror_mode": {
    "name": "ipython",
    "version": 3
   },
   "file_extension": ".py",
   "mimetype": "text/x-python",
   "name": "python",
   "nbconvert_exporter": "python",
   "pygments_lexer": "ipython3",
   "version": "3.12.9"
  }
 },
 "nbformat": 4,
 "nbformat_minor": 5
}
