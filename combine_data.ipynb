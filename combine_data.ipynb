{
 "cells": [
  {
   "cell_type": "code",
   "execution_count": null,
   "id": "4d6e023e-80a7-4ce9-8828-373d91330afe",
   "metadata": {},
   "outputs": [],
   "source": [
    "import pandas as pd\n",
    "from sklearn.utils import shuffle\n",
    "\n",
    "datasets = [\n",
    "    \"293T_training_dataset.csv\",\n",
    "    \"A549_training_dataset.csv\",\n",
    "    \"H1975_training_dataset.csv\",\n",
    "    \"HaCat_training_dataset.csv\",\n",
    "    \"HEKnp_training_data.csv\",\n",
    "    \"HeLaS3_training_dataset.csv\",\n",
    "    \"K562_training_dataset.csv\"\n",
    "]\n",
    "\n",
    "\n",
    "\n",
    "combined_df = pd.DataFrame()\n",
    "\n",
    "for file in datasets:\n",
    "    df = pd.read_csv(file)\n",
    "    combined_df = pd.concat([combined_df, df], ignore_index=True)\n",
    "\n",
    "shuffled_df = shuffle(combined_df, random_state=42)\n",
    "\n",
    "shuffled_df.to_csv(\"training_data.csv\", index=False)"
   ]
  },
  {
   "cell_type": "code",
   "execution_count": null,
   "id": "6183f813-1e15-4337-9848-ba95c19c35b3",
   "metadata": {},
   "outputs": [],
   "source": []
  }
 ],
 "metadata": {
  "kernelspec": {
   "display_name": "Python 3 (ipykernel)",
   "language": "python",
   "name": "python3"
  },
  "language_info": {
   "codemirror_mode": {
    "name": "ipython",
    "version": 3
   },
   "file_extension": ".py",
   "mimetype": "text/x-python",
   "name": "python",
   "nbconvert_exporter": "python",
   "pygments_lexer": "ipython3",
   "version": "3.12.9"
  }
 },
 "nbformat": 4,
 "nbformat_minor": 5
}
