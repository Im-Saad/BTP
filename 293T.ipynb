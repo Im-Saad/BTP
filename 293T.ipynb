{
 "cells": [
  {
   "cell_type": "code",
   "execution_count": 10,
   "id": "a91b7379-4be1-444e-83dd-33c16e8b340a",
   "metadata": {},
   "outputs": [],
   "source": [
    "import pandas as pd\n",
    "import pyranges as pr\n",
    "import random\n",
    "from Bio import SeqIO\n"
   ]
  },
  {
   "cell_type": "code",
   "execution_count": null,
   "id": "d0ed8ea1-c9de-4c5d-9824-195c4d9e89f2",
   "metadata": {},
   "outputs": [],
   "source": [
    "g4_rep1 = pd.read_csv(\"GSE133379_293T-G4P-hg19-rep1.narrowPeak\", sep='\\t', header=None)\n",
    "g4_rep2 = pd.read_csv(\"GSE133379_293T-G4P-hg19-rep2.narrowPeak\", sep='\\t', header=None)\n",
    "\n",
    "columns = [\"chrom\", \"start\", \"end\", \"name\", \"score\", \"strand\", \"signalValue\", \"pValue\", \"qValue\", \"summit_offset\"]\n",
    "g4_rep1.columns = columns\n",
    "g4_rep2.columns = columns\n",
    "\n",
    "peaks = pd.concat([g4_rep1, g4_rep2], ignore_index=True).drop_duplicates()\n",
    "\n",
    "peaks[\"summit\"] = peaks[\"start\"] + peaks[\"summit_offset\"]\n"
   ]
  },
  {
   "cell_type": "code",
   "execution_count": null,
   "id": "dd6de5c8-8b30-43df-9438-622f257fdaa6",
   "metadata": {},
   "outputs": [],
   "source": [
    "g4_seq = pd.read_csv(\"G4_seq_peaks.bed\", sep=\"\\t\", header=None)\n",
    "g4_seq.columns = [\"chrom\", \"start\", \"end\", \"name\", \"score\", \"strand\"]\n",
    "\n",
    "chip_pr = pr.PyRanges(peaks.rename(columns={\n",
    "    \"chrom\": \"Chromosome\", \"start\": \"Start\", \"end\": \"End\", \"summit\": \"Summit\"\n",
    "}))\n",
    "g4_pr = pr.PyRanges(g4_seq.rename(columns={\n",
    "    \"chrom\": \"Chromosome\", \"start\": \"Start\", \"end\": \"End\"\n",
    "}))\n",
    "\n",
    "active_g4 = chip_pr.intersect(g4_pr).df\n",
    "\n",
    "active_g4 = active_g4.rename(columns={\n",
    "    \"Chromosome\": \"chrom\", \"Start\": \"start\", \"End\": \"end\", \"Summit\": \"summit\"\n",
    "})\n"
   ]
  },
  {
   "cell_type": "code",
   "execution_count": null,
   "id": "e93fa85c-fe25-49b1-9570-e8f2997e1659",
   "metadata": {},
   "outputs": [],
   "source": [
    "\n",
    "atac_293T = pd.read_csv(\"GSM5321298_R21037745-293-2-293-2_peaks.narrowPeak\", sep=\"\\t\", header=None)\n",
    "atac_293T.columns = [\n",
    "    \"chrom\", \"start\", \"end\", \"name\", \"score\", \"strand\",\n",
    "    \"signal\", \"pval\", \"qval\", \"peak_offset\"\n",
    "]\n",
    "atac_293T = atac_293T[[\"chrom\", \"start\", \"end\"]]\n",
    "\n",
    "g4_ranges = pr.PyRanges(active_g4.rename(columns={\"chrom\": \"Chromosome\", \"start\": \"Start\", \"end\": \"End\"}))\n",
    "atac_ranges = pr.PyRanges(atac_293T.rename(columns={\"chrom\": \"Chromosome\", \"start\": \"Start\", \"end\": \"End\"}))\n",
    "\n",
    "overlapping = g4_ranges.overlap(atac_ranges).df[[\"Chromosome\", \"Start\", \"End\"]]\n",
    "overlapping[\"is_open\"] = 1\n",
    "\n",
    "active_g4 = active_g4.merge(\n",
    "    overlapping.rename(columns={\"Chromosome\": \"chrom\", \"Start\": \"start\", \"End\": \"end\"}),\n",
    "    on=[\"chrom\", \"start\", \"end\"],\n",
    "    how=\"left\"\n",
    ")\n",
    "active_g4[\"is_open\"] = active_g4[\"is_open\"].fillna(0).astype(int)\n"
   ]
  },
  {
   "cell_type": "code",
   "execution_count": null,
   "id": "e30a086e-89b0-4f99-a1b6-58c77f525ff1",
   "metadata": {},
   "outputs": [
    {
     "name": "stdout",
     "output_type": "stream",
     "text": [
      "✅ Extracted 65184 active G4 sequences for H1975\n"
     ]
    }
   ],
   "source": [
    "genome = {rec.id: str(rec.seq) for rec in SeqIO.parse(\"hg19.fa\", \"fasta\")}\n",
    "\n",
    "def get_sequence(row):\n",
    "    try:\n",
    "        chrom = str(row[\"chrom\"])\n",
    "        summit = int(float(row[\"summit\"]))\n",
    "        start = max(0, summit - 100)\n",
    "        end = summit + 101\n",
    "        chrom_seq = genome.get(chrom, genome.get(\"chr\" + chrom))\n",
    "        if not chrom_seq:\n",
    "            raise ValueError(f\"Chromosome {chrom} not found\")\n",
    "        end = min(end, len(chrom_seq))\n",
    "        return chrom_seq[start:end].upper()\n",
    "    except Exception as e:\n",
    "        print(f\"Error: {e} at {row['chrom']}:{row['start']}-{row['end']}\")\n",
    "        return None\n",
    "\n",
    "active_g4[\"sequence\"] = active_g4.apply(get_sequence, axis=1)\n",
    "active_g4 = active_g4.dropna(subset=[\"sequence\"])\n",
    "active_g4[\"label\"] = 1\n",
    "\n",
    "print(f\" Extracted {len(active_g4)} active G4 sequences for H1975\")\n"
   ]
  },
  {
   "cell_type": "code",
   "execution_count": null,
   "id": "27934b63-d0f4-406b-b3ff-72d0aeee52a0",
   "metadata": {},
   "outputs": [],
   "source": [
    "import random\n",
    "\n",
    "gc_content = active_g4[\"sequence\"].apply(lambda x: (x.count(\"G\") + x.count(\"C\")) / 201)\n",
    "gc_mean, gc_std = gc_content.mean(), gc_content.std()\n",
    "\n",
    "def generate_negatives(n, gc_mean, gc_std):\n",
    "    negatives = []\n",
    "    chromosomes = [k for k in genome if k.startswith(\"chr\") and len(genome[k]) > 201]\n",
    "    while len(negatives) < n:\n",
    "        chrom = random.choice(chromosomes)\n",
    "        start = random.randint(0, len(genome[chrom]) - 201)\n",
    "        seq = genome[chrom][start:start+201].upper()\n",
    "        gc = (seq.count(\"G\") + seq.count(\"C\")) / 201\n",
    "        if abs(gc - gc_mean) < gc_std:\n",
    "            negatives.append({\n",
    "                \"chrom\": chrom,\n",
    "                \"start\": start,\n",
    "                \"end\": start + 201,\n",
    "                \"sequence\": seq,\n",
    "                \"is_open\": 0,\n",
    "                \"label\": 0\n",
    "            })\n",
    "    return pd.DataFrame(negatives)\n",
    "\n",
    "negatives = generate_negatives(len(active_g4), gc_mean, gc_std)\n",
    "\n",
    "\n",
    "neg_ranges = pr.PyRanges(negatives.rename(columns={\"chrom\": \"Chromosome\", \"start\": \"Start\", \"end\": \"End\"}))\n",
    "neg_open = neg_ranges.overlap(atac_ranges).df[[\"Chromosome\", \"Start\", \"End\"]]\n",
    "neg_open[\"is_open\"] = 1\n",
    "\n",
    "negatives = negatives.merge(\n",
    "    neg_open.rename(columns={\"Chromosome\": \"chrom\", \"Start\": \"start\", \"End\": \"end\"}),\n",
    "    on=[\"chrom\", \"start\", \"end\"],\n",
    "    how=\"left\"\n",
    ")\n",
    "negatives[\"is_open\"] = negatives[\"is_open\"].fillna(0).astype(int) if \"is_open\" in negatives.columns else 0\n"
   ]
  },
  {
   "cell_type": "code",
   "execution_count": null,
   "id": "13b6f492-a5de-4fc9-b31d-73c026a17ebf",
   "metadata": {},
   "outputs": [
    {
     "name": "stdout",
     "output_type": "stream",
     "text": [
      "✅ Final H1975 training dataset saved with 130832 samples\n"
     ]
    }
   ],
   "source": [
    "positives = active_g4[[\"sequence\", \"is_open\"]].copy()\n",
    "positives[\"label\"] = 1\n",
    "\n",
    "negatives_df = negatives[[\"sequence\", \"is_open\", \"label\"]].copy()\n",
    "\n",
    "dataset = pd.concat([positives, negatives_df], ignore_index=True)\n",
    "dataset = dataset.sample(frac=1, random_state=42).reset_index(drop=True)\n",
    "\n",
    "# Save to file\n",
    "dataset.to_csv(\"293T_training_dataset.csv\", index=False)\n",
    "print(f\"Final H1975 training dataset saved with {len(dataset)} samples\")\n"
   ]
  },
  {
   "cell_type": "code",
   "execution_count": null,
   "id": "8510005a-64b8-427e-92db-ae3158700784",
   "metadata": {},
   "outputs": [],
   "source": []
  }
 ],
 "metadata": {
  "kernelspec": {
   "display_name": "Python 3 (ipykernel)",
   "language": "python",
   "name": "python3"
  },
  "language_info": {
   "codemirror_mode": {
    "name": "ipython",
    "version": 3
   },
   "file_extension": ".py",
   "mimetype": "text/x-python",
   "name": "python",
   "nbconvert_exporter": "python",
   "pygments_lexer": "ipython3",
   "version": "3.12.9"
  }
 },
 "nbformat": 4,
 "nbformat_minor": 5
}
